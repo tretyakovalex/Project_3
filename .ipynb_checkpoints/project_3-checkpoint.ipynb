{
 "cells": [
  {
   "cell_type": "code",
   "execution_count": 97,
   "id": "accompanied-kingston",
   "metadata": {},
   "outputs": [],
   "source": [
    "from PIL import Image\n",
    "import numpy as np"
   ]
  },
  {
   "cell_type": "markdown",
   "id": "patent-outdoors",
   "metadata": {},
   "source": [
    "Converting color image into grayscale (using the average method): (Task: 1-4)"
   ]
  },
  {
   "cell_type": "code",
   "execution_count": 115,
   "id": "combined-configuration",
   "metadata": {},
   "outputs": [],
   "source": [
    "def convolve(img, kernel):\n",
    "    width, height = img.size\n",
    "    pixels = img.load()\n",
    "\n",
    "    for py in range(height):\n",
    "        for px in range(width):\n",
    "            r, g, b = img.getpixel((px, py))\n",
    "\n",
    "            v = np.array([[r], [g], [b]])\n",
    "            res = np.dot(kernel, v)\n",
    "\n",
    "            tr, tg, tb = int(res[0, 0]), int(res[1, 0]), int(res[2, 0])\n",
    "\n",
    "            if tr > 255:\n",
    "                tr = 255\n",
    "\n",
    "            if tg > 255:\n",
    "                tg = 255\n",
    "\n",
    "            if tb > 255:\n",
    "                tb = 255\n",
    "\n",
    "            pixels[px, py] = (tr, tg, tb)\n",
    "\n",
    "    return img"
   ]
  },
  {
   "cell_type": "code",
   "execution_count": 140,
   "id": "victorian-occupation",
   "metadata": {
    "scrolled": true
   },
   "outputs": [],
   "source": [
    "img = Image.open('mandrill.jpg')\n",
    "grayscale = np.ones((3, 3)) * (1/3)\n",
    "\n",
    "convolve(img, grayscale)\n",
    "img.show()"
   ]
  },
  {
   "cell_type": "markdown",
   "id": "permanent-sixth",
   "metadata": {},
   "source": [
    "Sepia conversion of the image: (Task: 5):"
   ]
  },
  {
   "cell_type": "code",
   "execution_count": 141,
   "id": "creative-cleaning",
   "metadata": {},
   "outputs": [],
   "source": [
    "img = Image.open('mandrill.jpg')\n",
    "sepia = np.array(\n",
    "    [[0.393, 0.769, 0.189], [0.349, 0.686, 0.168], [0.272, 0.534, 0.131]])\n",
    "\n",
    "convolve(img, sepia)\n",
    "img.show()"
   ]
  },
  {
   "cell_type": "markdown",
   "id": "bright-mustang",
   "metadata": {},
   "source": [
    "Red filter of the image: (Task: 6)"
   ]
  },
  {
   "cell_type": "code",
   "execution_count": 118,
   "id": "aboriginal-crossing",
   "metadata": {},
   "outputs": [],
   "source": [
    "img = Image.open('mandrill.jpg')\n",
    "red = np.array(\n",
    "    [[1, 0, 0], [0, 0, 0], [0, 0, 0]])\n",
    "\n",
    "convolve(img, red)\n",
    "img.show()"
   ]
  },
  {
   "cell_type": "markdown",
   "id": "official-transparency",
   "metadata": {},
   "source": [
    "Permute the colors of the image. (Task: 7)"
   ]
  },
  {
   "cell_type": "code",
   "execution_count": 119,
   "id": "pressing-information",
   "metadata": {},
   "outputs": [],
   "source": [
    "img = Image.open('mandrill.jpg')\n",
    "permutematrix = np.array(\n",
    "    [[0, 0, 1], [0, 1, 0], [1, 0, 0]])\n",
    "\n",
    "convolve(img, permutematrix)\n",
    "img.show()"
   ]
  },
  {
   "cell_type": "markdown",
   "id": "civil-wagon",
   "metadata": {},
   "source": [
    "Deleting the color green from the image: (Task: 8)"
   ]
  },
  {
   "cell_type": "code",
   "execution_count": 121,
   "id": "bound-george",
   "metadata": {},
   "outputs": [],
   "source": [
    "img = Image.open('mandrill.jpg')\n",
    "deletegreen = np.array(\n",
    "    [[1, 0, 0], [0, 0, 0], [0, 0, 1]])\n",
    "\n",
    "convolve(img, deletegreen)\n",
    "img.show()"
   ]
  },
  {
   "cell_type": "markdown",
   "id": "amino-muslim",
   "metadata": {},
   "source": [
    "Inverting the colors of the image: (Task: 9)"
   ]
  },
  {
   "cell_type": "code",
   "execution_count": 130,
   "id": "vulnerable-sentence",
   "metadata": {},
   "outputs": [],
   "source": [
    "img = Image.open('mandrill.jpg')\n",
    "\n",
    "image_array = np.array(img)\n",
    "\n",
    "image_array = 255 - image_array\n",
    "\n",
    "inverted = Image.fromarray(image_array) \n",
    "\n",
    "inverted.show()"
   ]
  },
  {
   "cell_type": "markdown",
   "id": "variable-lease",
   "metadata": {},
   "source": [
    "Saturation filter applied: (Task: 10)"
   ]
  },
  {
   "cell_type": "markdown",
   "id": "popular-motorcycle",
   "metadata": {},
   "source": [
    "Q3 (answer): The saturate matrix saturates the RGB channels.\n",
    "The red channel is saturated by a factor of 1.2\n",
    "The green channel is saturated by a factor of 0.75\n",
    "The blue channel is saturated by a factor of 2"
   ]
  },
  {
   "cell_type": "code",
   "execution_count": 129,
   "id": "moving-export",
   "metadata": {},
   "outputs": [],
   "source": [
    "img = Image.open('mandrill.jpg')\n",
    "saturate = np.array(\n",
    "    [[1.2, 0, 0], [0, 0.75, 0], [0, 0, 2]])\n",
    "\n",
    "convolve(img, saturate)\n",
    "img.show()"
   ]
  },
  {
   "cell_type": "markdown",
   "id": "coral-camcorder",
   "metadata": {},
   "source": [
    "User filter applied: (Task: 11)"
   ]
  },
  {
   "cell_type": "markdown",
   "id": "infectious-german",
   "metadata": {},
   "source": [
    "Q4 (answer): The User matrix decreases the contrast of the image."
   ]
  },
  {
   "cell_type": "code",
   "execution_count": 163,
   "id": "embedded-summer",
   "metadata": {},
   "outputs": [],
   "source": [
    "img = Image.open('mandrill.jpg')\n",
    "user = np.array(\n",
    "    [[0.7, 0.15, 0.15], [0.15, 0.7, 0.15], [0.15, 0.15, 0.7]])\n",
    "\n",
    "user_inv = convolve(img, user)\n",
    "user_inv.show()"
   ]
  },
  {
   "cell_type": "markdown",
   "id": "several-headset",
   "metadata": {},
   "source": [
    "Invert the user filter: (Task: 12)"
   ]
  },
  {
   "cell_type": "code",
   "execution_count": 160,
   "id": "wound-piece",
   "metadata": {},
   "outputs": [],
   "source": [
    "from PIL import ImageOps\n",
    "img = Image.open('mandrill.jpg')\n",
    "user = np.array(\n",
    "    [[0.7, 0.15, 0.15], [0.15, 0.7, 0.15], [0.15, 0.15, 0.7]])\n",
    "\n",
    "user_img = convolve(img, user)\n",
    "\n",
    "invert_user = np.linalg.inv(user)\n",
    "\n",
    "inverted_user_img = convolve(user_img, invert_user)\n",
    "\n",
    "inverted_user_img.show()"
   ]
  },
  {
   "cell_type": "markdown",
   "id": "cloudy-earth",
   "metadata": {},
   "source": [
    "Check if sepia transformation is invertible: (Task: 13) "
   ]
  },
  {
   "cell_type": "markdown",
   "id": "local-facing",
   "metadata": {},
   "source": [
    "Q6 (answer): The image was not able to be inverted. This is because the sepia matrix is not invertible."
   ]
  },
  {
   "cell_type": "code",
   "execution_count": 162,
   "id": "coordinate-function",
   "metadata": {},
   "outputs": [],
   "source": [
    "from PIL import ImageOps\n",
    "\n",
    "img = Image.open('mandrill.jpg')\n",
    "sepia = np.array(\n",
    "    [[0.393, 0.769, 0.189], [0.349, 0.686, 0.168], [0.272, 0.534, 0.131]])\n",
    "\n",
    "sepia_img = convolve(img, sepia)\n",
    "\n",
    "invert_sepia = np.linalg.inv(sepia)\n",
    "\n",
    "inverted_sepia_img = convolve(sepia_img, invert_sepia)\n",
    "\n",
    "inverted_sepia_img.show()"
   ]
  },
  {
   "cell_type": "markdown",
   "id": "designing-investing",
   "metadata": {},
   "source": [
    "Non-linear color transformation using Gamma-conversion: (Task: 14)"
   ]
  },
  {
   "cell_type": "code",
   "execution_count": null,
   "id": "tight-farmer",
   "metadata": {},
   "outputs": [],
   "source": [
    "def non_linear(img):\n",
    "    width, height = img.size\n",
    "    pixels = img.load()\n",
    "    \n",
    "    for py in range(height):\n",
    "        for px in range(width):\n",
    "            r, g, b = img.getpixel((px, py))\n",
    "            tr = (0.9**r + 0.9**g + 0.9**b)+30\n",
    "            tr = (0.9**r + 0.9**g + 0.9**b)+30\n",
    "            tr = (0.9**r + 0.9**g + 0.9**b)+30\n",
    "            \n",
    "            if tr > 255:\n",
    "                tr = 255\n",
    "\n",
    "            if tg > 255:\n",
    "                tg = 255\n",
    "\n",
    "            if tb > 255:\n",
    "                tb = 255\n",
    "\n",
    "            pixels[px, py] = (tr, tg, tb)\n",
    "\n",
    "    return img"
   ]
  }
 ],
 "metadata": {
  "kernelspec": {
   "display_name": "Python 3 (ipykernel)",
   "language": "python",
   "name": "python3"
  },
  "language_info": {
   "codemirror_mode": {
    "name": "ipython",
    "version": 3
   },
   "file_extension": ".py",
   "mimetype": "text/x-python",
   "name": "python",
   "nbconvert_exporter": "python",
   "pygments_lexer": "ipython3",
   "version": "3.9.8"
  }
 },
 "nbformat": 4,
 "nbformat_minor": 5
}
